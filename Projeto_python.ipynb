{
  "nbformat": 4,
  "nbformat_minor": 0,
  "metadata": {
    "colab": {
      "provenance": [],
      "include_colab_link": true
    },
    "kernelspec": {
      "name": "python3",
      "display_name": "Python 3"
    },
    "language_info": {
      "name": "python"
    }
  },
  "cells": [
    {
      "cell_type": "markdown",
      "metadata": {
        "id": "view-in-github",
        "colab_type": "text"
      },
      "source": [
        "<a href=\"https://colab.research.google.com/github/Adeleyota1211/Adeleyota/blob/main/Projeto_python.ipynb\" target=\"_parent\"><img src=\"https://colab.research.google.com/assets/colab-badge.svg\" alt=\"Open In Colab\"/></a>"
      ]
    },
    {
      "cell_type": "markdown",
      "source": [
        "Volume_pirâmide"
      ],
      "metadata": {
        "id": "ZT8KtMFaKnQ1"
      }
    },
    {
      "cell_type": "code",
      "source": [
        "altura = float(input(\"enter a altura, \"))\n",
        "comprimento_base = float(input(\"inter a comprimento_base, \"))\n",
        "print(\"altura = \",altura)\n",
        "print(\"comprimento_base = \",comprimento_base)\n",
        "volume = (1/3)*comprimento_base * comprimento_base * altura\n",
        "print(f\"volume= {volume:.2f}\")\n"
      ],
      "metadata": {
        "id": "BEFLVpqfLw13"
      },
      "execution_count": null,
      "outputs": []
    },
    {
      "cell_type": "markdown",
      "source": [
        "Numero_dezenas"
      ],
      "metadata": {
        "id": "DJ_8iLHYaY5v"
      }
    },
    {
      "cell_type": "code",
      "source": [
        "number = int(input('enter a number, '))\n",
        "\n",
        "print('number= ',number)\n",
        "dezenas = int(number/10)%10\n",
        "unite = int(number%10)\n",
        "centaine = int((number/100)%10)\n",
        "millième = int((number/1000)%10)\n",
        "\n",
        "print('dezenas= ',dezenas)\n",
        "print('unite= ',unite)\n",
        "print(\"centaine=\",centaine)\n",
        "print(\"millième =\", millième)"
      ],
      "metadata": {
        "id": "6IrrQMREa4_y"
      },
      "execution_count": null,
      "outputs": []
    },
    {
      "cell_type": "markdown",
      "source": [
        "Conta_agua"
      ],
      "metadata": {
        "id": "bnBh7H2-eCFk"
      }
    },
    {
      "cell_type": "code",
      "source": [
        "conso = int(input('inter a conso,'))\n",
        "print('conso= ', conso)\n",
        "\n",
        "if conso<=10:\n",
        "   conta = 39.99\n",
        "\n",
        "elif conso<=15:\n",
        "    conta = 39.99 + 4.46*(conso-10)\n",
        "\n",
        "elif conso<=20:\n",
        "    conta = 39.99 + 4.46*5 + 5.27*(conso-15)\n",
        "\n",
        "elif conso<=30:\n",
        "    conta = 39.99 + 4.46*5 + 5.27*5 + 5.94*(conso-20)\n",
        "\n",
        "else:\n",
        "    conta = 39.99 + 4.46*5 + 5.27*5 + 5.94*10 + 6.84*(conso-30)\n",
        "\n",
        "esgoto = conta*0.7\n",
        "\n",
        "tributo = conta + esgoto\n",
        "\n",
        "PIS = tributo*0.0165\n",
        "COFINS = tributo*0.076\n",
        "\n",
        "tributos = tributo + PIS + COFINS\n",
        "\n",
        "print('conta= ',conta)\n",
        "print('esgoto= ',esgoto)\n",
        "print('tributos= ',tributos)\n"
      ],
      "metadata": {
        "id": "iQ7Az-VSeHmQ",
        "colab": {
          "base_uri": "https://localhost:8080/"
        },
        "outputId": "26b42822-b823-4fba-eaf4-7f868368229a"
      },
      "execution_count": null,
      "outputs": [
        {
          "output_type": "stream",
          "name": "stdout",
          "text": [
            "inter a conso,8\n",
            "conso=  8\n",
            "conta=  39.99\n",
            "esgoto=  27.993\n",
            "tributos=  74.2714275\n"
          ]
        }
      ]
    },
    {
      "cell_type": "markdown",
      "source": [
        "Menor_numero"
      ],
      "metadata": {
        "id": "1ADYDaY4woI0"
      }
    },
    {
      "cell_type": "code",
      "source": [
        "number = int(input('enter a number, '))\n",
        "notas = {200,100,50,20,10,5,2,1}\n",
        "notas_de_number = []\n",
        "\n",
        "for i in notas:\n",
        "\n",
        "     n = number // i\n",
        "     number = number % i\n",
        "\n",
        "     notas_de_number.append(n)\n",
        "\n",
        "print(notas_de_number)\n"
      ],
      "metadata": {
        "id": "QgmMHO4hwwCa"
      },
      "execution_count": null,
      "outputs": []
    },
    {
      "cell_type": "markdown",
      "source": [
        "Cinquenta_premeiros_termos"
      ],
      "metadata": {
        "id": "TuYvtCYlxqUe"
      }
    },
    {
      "cell_type": "code",
      "source": [
        "serie = {1,2,4,7,11,16,22,...}\n",
        "terme = 1\n",
        "for i in range(1,50):\n",
        "    print(terme)\n",
        "    terme = terme + i\n",
        "\n",
        "print(terme)"
      ],
      "metadata": {
        "id": "c1Blxajmx-Nd"
      },
      "execution_count": null,
      "outputs": []
    },
    {
      "cell_type": "markdown",
      "source": [
        "Numero_perfeito"
      ],
      "metadata": {
        "id": "qdom-QcozQNE"
      }
    },
    {
      "cell_type": "code",
      "source": [
        "number = int(input(\"inter a number, \"))\n",
        "print(\"number= \", number)\n",
        "soma_divisores = 0\n",
        "\n",
        "for i in range(1,number):\n",
        "    if number%i == 0:\n",
        "        soma_divisores = soma_divisores + i\n",
        "\n",
        "if soma_divisores == number:\n",
        "   print(\"number is perfect\")\n",
        "else:\n",
        "   print(\"number is not perfect\")\n"
      ],
      "metadata": {
        "id": "lzGIEZR-zYmM",
        "colab": {
          "base_uri": "https://localhost:8080/"
        },
        "outputId": "3afb50b5-b047-49cb-f263-e523197519b4"
      },
      "execution_count": null,
      "outputs": [
        {
          "output_type": "stream",
          "name": "stdout",
          "text": [
            "inter a number, 6\n",
            "number=  6\n",
            "number is perfect\n"
          ]
        }
      ]
    },
    {
      "cell_type": "markdown",
      "source": [
        "Pi_aproximaçao"
      ],
      "metadata": {
        "id": "pp0zD7c4z1a1"
      }
    },
    {
      "cell_type": "code",
      "source": [
        "pi = 4\n",
        "terme = 4\n",
        "signe = -1\n",
        "i = 1\n",
        "while abs(terme) >= 0.0001:\n",
        "\n",
        "    terme = 4/(2*i+1)\n",
        "    pi = pi + signe*terme\n",
        "    signe = signe*(-1)\n",
        "    i = i+1\n",
        "print(pi)\n",
        "print(terme)"
      ],
      "metadata": {
        "id": "E4BZ6O-20Asr"
      },
      "execution_count": null,
      "outputs": []
    }
  ]
}